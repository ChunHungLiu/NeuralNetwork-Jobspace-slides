{
 "cells": [
  {
   "cell_type": "markdown",
   "metadata": {
    "slideshow": {
     "slide_type": "slide"
    }
   },
   "source": [
    "# Use Neural Network\n",
    "\n",
    "### 2016/08/05 tjw at jobspace\n"
   ]
  },
  {
   "cell_type": "code",
   "execution_count": 1,
   "metadata": {
    "collapsed": false,
    "slideshow": {
     "slide_type": "skip"
    }
   },
   "outputs": [
    {
     "name": "stdout",
     "output_type": "stream",
     "text": [
      "Populating the interactive namespace from numpy and matplotlib\n"
     ]
    }
   ],
   "source": [
    "%pylab inline"
   ]
  },
  {
   "cell_type": "markdown",
   "metadata": {
    "slideshow": {
     "slide_type": "slide"
    }
   },
   "source": [
    "# Neural Network?"
   ]
  },
  {
   "cell_type": "markdown",
   "metadata": {
    "slideshow": {
     "slide_type": "subslide"
    }
   },
   "source": [
    "## Supervised Learning"
   ]
  },
  {
   "cell_type": "code",
   "execution_count": 2,
   "metadata": {
    "collapsed": false,
    "slideshow": {
     "slide_type": "skip"
    }
   },
   "outputs": [
    {
     "data": {
      "image/svg+xml": [
       "<svg height=\"44pt\" viewBox=\"0.00 0.00 255.00 44.00\" width=\"255pt\" xmlns=\"http://www.w3.org/2000/svg\" xmlns:xlink=\"http://www.w3.org/1999/xlink\">\n",
       "<g class=\"graph\" id=\"graph0\" transform=\"scale(1 1) rotate(0) translate(4 40)\">\n",
       "<title>supervised</title>\n",
       "<!-- X -->\n",
       "<g class=\"node\" id=\"node1\"><title>X</title>\n",
       "<ellipse cx=\"27\" cy=\"-18\" fill=\"#aaffff\" rx=\"27\" ry=\"18\" stroke=\"black\"/>\n",
       "<text font-family=\"Times,serif\" font-size=\"14.00\" text-anchor=\"middle\" x=\"27\" y=\"-14.3\">X</text>\n",
       "</g>\n",
       "<!-- f -->\n",
       "<g class=\"node\" id=\"node2\"><title>f</title>\n",
       "<polygon fill=\"#aaaaff\" points=\"157,-36 90,-36 90,-0 157,-0 157,-36\" stroke=\"black\"/>\n",
       "<text font-family=\"Times,serif\" font-size=\"14.00\" text-anchor=\"middle\" x=\"123.5\" y=\"-14.3\">Function</text>\n",
       "</g>\n",
       "<!-- X&#45;&gt;f -->\n",
       "<g class=\"edge\" id=\"edge1\"><title>X-&gt;f</title>\n",
       "<path d=\"M54.0727,-18C62.0045,-18 70.9403,-18 79.6727,-18\" fill=\"none\" stroke=\"black\"/>\n",
       "<polygon fill=\"black\" points=\"79.7582,-21.5001 89.7582,-18 79.7582,-14.5001 79.7582,-21.5001\" stroke=\"black\"/>\n",
       "</g>\n",
       "<!-- Y -->\n",
       "<g class=\"node\" id=\"node3\"><title>Y</title>\n",
       "<ellipse cx=\"220\" cy=\"-18\" fill=\"#aaffaa\" rx=\"27\" ry=\"18\" stroke=\"black\"/>\n",
       "<text font-family=\"Times,serif\" font-size=\"14.00\" text-anchor=\"middle\" x=\"220\" y=\"-14.3\">Y</text>\n",
       "</g>\n",
       "<!-- f&#45;&gt;Y -->\n",
       "<g class=\"edge\" id=\"edge2\"><title>f-&gt;Y</title>\n",
       "<path d=\"M157.022,-18C165.372,-18 174.404,-18 182.923,-18\" fill=\"none\" stroke=\"black\"/>\n",
       "<polygon fill=\"black\" points=\"182.978,-21.5001 192.978,-18 182.978,-14.5001 182.978,-21.5001\" stroke=\"black\"/>\n",
       "</g>\n",
       "</g>\n",
       "</svg>"
      ],
      "text/plain": [
       "<IPython.core.display.SVG object>"
      ]
     },
     "execution_count": 2,
     "metadata": {},
     "output_type": "execute_result"
    }
   ],
   "source": [
    "from  pydot import Node, Edge, Dot\n",
    "from IPython.display import Image, SVG, HTML, IFrame\n",
    "def make_graph(name, nodes, edges, **kwargs):\n",
    "    graph= Dot('supervised', graph_type='digraph', rankdir='LR', bgcolor='transparent')\n",
    "    for node in nodes:\n",
    "        graph.add_node(node)\n",
    "    for edge in edges:\n",
    "        if isinstance(edge, tuple):\n",
    "            edge = Edge(*edge)\n",
    "        graph.add_edge(edge)\n",
    "    graph.write_svg(name+'.svg')\n",
    "    return SVG(graph.create_svg())\n",
    "\n",
    "def C(n, s='box', c='white', label=None):\n",
    "    if label is None:\n",
    "        label=n\n",
    "    return Node(n, label=label, shape=s, style='filled', fillcolor='\"%s\"'%c)\n",
    "\n",
    "nodes = [C('X', 'oval', '#aaffff'), \n",
    "         C('f', 'box', '#aaaaff', label='Function'), \n",
    "         C('Y', 'oval', '#aaffaa'),]\n",
    "edges = [('X', 'f'), ('f', 'Y')]\n",
    "    \n",
    "\n",
    "make_graph('supervised', nodes, edges, graph_type='digraph', rankdir='LR', bgcolor='transparent')\n"
   ]
  },
  {
   "cell_type": "markdown",
   "metadata": {
    "slideshow": {
     "slide_type": "-"
    }
   },
   "source": [
    "<img src='./supervised.svg' width='90%' />"
   ]
  },
  {
   "cell_type": "markdown",
   "metadata": {
    "collapsed": true,
    "slideshow": {
     "slide_type": "subslide"
    }
   },
   "source": [
    "    \"I see you as a human being. I will educate you well.\"    --- Ma Ying-jeou"
   ]
  },
  {
   "cell_type": "code",
   "execution_count": 3,
   "metadata": {
    "collapsed": false,
    "slideshow": {
     "slide_type": "skip"
    }
   },
   "outputs": [
    {
     "data": {
      "image/svg+xml": [
       "<svg height=\"44pt\" viewBox=\"0.00 0.00 247.00 44.00\" width=\"247pt\" xmlns=\"http://www.w3.org/2000/svg\" xmlns:xlink=\"http://www.w3.org/1999/xlink\">\n",
       "<g class=\"graph\" id=\"graph0\" transform=\"scale(1 1) rotate(0) translate(4 40)\">\n",
       "<title>supervised</title>\n",
       "<!-- Q -->\n",
       "<g class=\"node\" id=\"node1\"><title>Q</title>\n",
       "<ellipse cx=\"27\" cy=\"-18\" fill=\"#aaffff\" rx=\"27\" ry=\"18\" stroke=\"black\"/>\n",
       "<text font-family=\"Times,serif\" font-size=\"14.00\" text-anchor=\"middle\" x=\"27\" y=\"-14.3\">Q</text>\n",
       "</g>\n",
       "<!-- f -->\n",
       "<g class=\"node\" id=\"node2\"><title>f</title>\n",
       "<polygon fill=\"#aaaaff\" points=\"149,-36 90,-36 90,-0 149,-0 149,-36\" stroke=\"black\"/>\n",
       "<text font-family=\"Times,serif\" font-size=\"14.00\" text-anchor=\"middle\" x=\"119.5\" y=\"-14.3\">Student</text>\n",
       "</g>\n",
       "<!-- Q&#45;&gt;f -->\n",
       "<g class=\"edge\" id=\"edge1\"><title>Q-&gt;f</title>\n",
       "<path d=\"M54.1763,-18C62.1186,-18 71.0204,-18 79.6102,-18\" fill=\"none\" stroke=\"black\"/>\n",
       "<polygon fill=\"black\" points=\"79.8478,-21.5001 89.8478,-18 79.8477,-14.5001 79.8478,-21.5001\" stroke=\"black\"/>\n",
       "</g>\n",
       "<!-- A -->\n",
       "<g class=\"node\" id=\"node3\"><title>A</title>\n",
       "<ellipse cx=\"212\" cy=\"-18\" fill=\"#aaffaa\" rx=\"27\" ry=\"18\" stroke=\"black\"/>\n",
       "<text font-family=\"Times,serif\" font-size=\"14.00\" text-anchor=\"middle\" x=\"212\" y=\"-14.3\">A</text>\n",
       "</g>\n",
       "<!-- f&#45;&gt;A -->\n",
       "<g class=\"edge\" id=\"edge2\"><title>f-&gt;A</title>\n",
       "<path d=\"M149.135,-18C157.234,-18 166.158,-18 174.648,-18\" fill=\"none\" stroke=\"black\"/>\n",
       "<polygon fill=\"black\" points=\"174.702,-21.5001 184.702,-18 174.702,-14.5001 174.702,-21.5001\" stroke=\"black\"/>\n",
       "</g>\n",
       "</g>\n",
       "</svg>"
      ],
      "text/plain": [
       "<IPython.core.display.SVG object>"
      ]
     },
     "execution_count": 3,
     "metadata": {},
     "output_type": "execute_result"
    }
   ],
   "source": [
    "\n",
    "nodes = [C('Q', 'oval', '#aaffff'), \n",
    "         C('f', 'box', '#aaaaff', label='Student'), \n",
    "         C('A', 'oval', '#aaffaa'),]\n",
    "edges = [('Q', 'f'), ('f', 'A')]\n",
    "    \n",
    "\n",
    "make_graph('supervised2', nodes, edges, graph_type='digraph', rankdir='LR', bgcolor='transparent')"
   ]
  },
  {
   "cell_type": "markdown",
   "metadata": {
    "slideshow": {
     "slide_type": "-"
    }
   },
   "source": [
    "<img src='./supervised2.svg' width='90%' />"
   ]
  },
  {
   "cell_type": "markdown",
   "metadata": {
    "slideshow": {
     "slide_type": "subslide"
    }
   },
   "source": [
    "* Training material\n",
    "* Grading/score\n",
    "* Training method\n",
    "* Test "
   ]
  },
  {
   "cell_type": "markdown",
   "metadata": {
    "slideshow": {
     "slide_type": "subslide"
    }
   },
   "source": [
    "## MNIST\n",
    "<img src=\"Samples-from-the-MNIST-database.png\" width=\"90%\" />"
   ]
  },
  {
   "cell_type": "markdown",
   "metadata": {
    "slideshow": {
     "slide_type": "subslide"
    }
   },
   "source": [
    "## Font\n",
    "<img src=\"font.jpg\" width=\"85%\" />"
   ]
  },
  {
   "cell_type": "markdown",
   "metadata": {
    "slideshow": {
     "slide_type": "subslide"
    }
   },
   "source": [
    "## Waifu2x\n",
    "<img src=\"waifu2x.png\" width=\"90%\" />\n",
    "CC-BY-NC \"For Creators\", http://piapro.net/en_for_creators.html"
   ]
  },
  {
   "cell_type": "code",
   "execution_count": 4,
   "metadata": {
    "collapsed": false,
    "slideshow": {
     "slide_type": "subslide"
    }
   },
   "outputs": [
    {
     "data": {
      "text/html": [
       "\n",
       "        <iframe\n",
       "            width=\"90%\"\n",
       "            height=\"800\"\n",
       "            src=\"https://tjwei.github.io/2048-NN\"\n",
       "            frameborder=\"0\"\n",
       "            allowfullscreen\n",
       "        ></iframe>\n",
       "        "
      ],
      "text/plain": [
       "<IPython.lib.display.IFrame at 0x7fca423690f0>"
      ]
     },
     "execution_count": 4,
     "metadata": {},
     "output_type": "execute_result"
    }
   ],
   "source": [
    "IFrame(\"https://tjwei.github.io/2048-NN\", \"90%\", 800)"
   ]
  },
  {
   "cell_type": "markdown",
   "metadata": {
    "slideshow": {
     "slide_type": "subslide"
    }
   },
   "source": [
    "## Tools\n",
    "* Theano/lasagne\n",
    "* Keras\n",
    "* Tensorflow/tflearn\n",
    "* neon\n",
    "* torch\n",
    "* caffe\n"
   ]
  },
  {
   "cell_type": "markdown",
   "metadata": {
    "slideshow": {
     "slide_type": "slide"
    }
   },
   "source": [
    "# End of the story?"
   ]
  },
  {
   "cell_type": "markdown",
   "metadata": {
    "slideshow": {
     "slide_type": "subslide"
    }
   },
   "source": [
    "## Issues (Type I)\n",
    "* Q without A\n",
    "* Not enough samples\n",
    "* How to encode the problem?\n"
   ]
  },
  {
   "cell_type": "markdown",
   "metadata": {
    "slideshow": {
     "slide_type": "subslide"
    }
   },
   "source": [
    "## Researching direction\n",
    "e.g.  https://openai.com/blog/generative-models/"
   ]
  },
  {
   "cell_type": "markdown",
   "metadata": {
    "slideshow": {
     "slide_type": "subslide"
    }
   },
   "source": [
    "# There are plenty of low hanging fruits"
   ]
  },
  {
   "cell_type": "markdown",
   "metadata": {
    "slideshow": {
     "slide_type": "fragment"
    }
   },
   "source": [
    "(unless you are doing research)"
   ]
  },
  {
   "cell_type": "markdown",
   "metadata": {
    "slideshow": {
     "slide_type": "subslide"
    }
   },
   "source": [
    "# Issues (Type II)"
   ]
  },
  {
   "cell_type": "markdown",
   "metadata": {
    "slideshow": {
     "slide_type": "fragment"
    }
   },
   "source": [
    "## My model is not learning"
   ]
  },
  {
   "cell_type": "markdown",
   "metadata": {
    "slideshow": {
     "slide_type": "slide"
    }
   },
   "source": [
    "# Feedforward Neural Network"
   ]
  },
  {
   "cell_type": "markdown",
   "metadata": {
    "slideshow": {
     "slide_type": "subslide"
    }
   },
   "source": [
    "<img src=\"https://camo.githubusercontent.com/30a00ccdd6837573f5cb2571af6d42ce19d41097/687474703a2f2f692e696d6775722e636f6d2f486466656e74422e706e67\" />"
   ]
  },
  {
   "cell_type": "code",
   "execution_count": 5,
   "metadata": {
    "collapsed": true,
    "slideshow": {
     "slide_type": "skip"
    }
   },
   "outputs": [],
   "source": [
    "from lasagne.layers import *\n",
    "from lasagne.nonlinearities import *\n",
    "import lavis\n",
    "def draw(l, output_shape=False, rankdir=\"TB\"):\n",
    "    return lavis.draw_to_notebook(get_all_layers(l), output_shape=output_shape, rankdir=rankdir)\n",
    "def draw_to_file(name, l, output_shape=False, rankdir=\"TB\"):\n",
    "    dot = lavis.get_pydot_graph(get_all_layers(l), output_shape=output_shape, rankdir=rankdir)\n",
    "    dot.write_svg(name+\".svg\")"
   ]
  },
  {
   "cell_type": "code",
   "execution_count": 6,
   "metadata": {
    "collapsed": false,
    "slideshow": {
     "slide_type": "subslide"
    }
   },
   "outputs": [],
   "source": [
    "l_in = InputLayer(shape=(None, 2))\n",
    "l_hidden = DenseLayer(l_in, num_units=3)\n",
    "l_out = DenseLayer(l_hidden, num_units=1, nonlinearity=sigmoid)"
   ]
  },
  {
   "cell_type": "code",
   "execution_count": 7,
   "metadata": {
    "collapsed": true,
    "slideshow": {
     "slide_type": "skip"
    }
   },
   "outputs": [],
   "source": [
    "draw_to_file(\"simple_network\", l_out, True, \"LR\")"
   ]
  },
  {
   "cell_type": "markdown",
   "metadata": {
    "slideshow": {
     "slide_type": "-"
    }
   },
   "source": [
    "<img src=\"simple_network.svg\" width=\"90%\" />"
   ]
  },
  {
   "cell_type": "markdown",
   "metadata": {
    "slideshow": {
     "slide_type": "-"
    }
   },
   "source": [
    "### $$ Wx+b $$"
   ]
  },
  {
   "cell_type": "markdown",
   "metadata": {
    "slideshow": {
     "slide_type": "subslide"
    }
   },
   "source": [
    "## Sigmoid\n",
    "$$ \\frac{1}{1 + e^{-x}} $$"
   ]
  },
  {
   "cell_type": "code",
   "execution_count": 8,
   "metadata": {
    "collapsed": true,
    "slideshow": {
     "slide_type": "skip"
    }
   },
   "outputs": [],
   "source": [
    "x=linspace(-5,5, 1001)"
   ]
  },
  {
   "cell_type": "code",
   "execution_count": 9,
   "metadata": {
    "collapsed": false
   },
   "outputs": [
    {
     "data": {
      "image/png": "[encoded data removed]",
      "text/plain": [
       "<matplotlib.figure.Figure at 0x7fca3a0daf60>"
      ]
     },
     "metadata": {},
     "output_type": "display_data"
    }
   ],
   "source": [
    "plot(x, 1 / (1 + exp(-x)));"
   ]
  },
  {
   "cell_type": "markdown",
   "metadata": {
    "slideshow": {
     "slide_type": "subslide"
    }
   },
   "source": [
    "## Relu (rectify)\n",
    "\n",
    "$$  max ( 0 , x )  $$\n"
   ]
  },
  {
   "cell_type": "code",
   "execution_count": 10,
   "metadata": {
    "collapsed": false,
    "slideshow": {
     "slide_type": "-"
    }
   },
   "outputs": [
    {
     "data": {
      "image/png": "[encoded data removed]",
      "text/plain": [
       "<matplotlib.figure.Figure at 0x7fca42369588>"
      ]
     },
     "metadata": {},
     "output_type": "display_data"
    }
   ],
   "source": [
    "plot(x, maximum(0, x));"
   ]
  },
  {
   "cell_type": "markdown",
   "metadata": {
    "slideshow": {
     "slide_type": "subslide"
    }
   },
   "source": [
    "## tanh\n",
    "$$ \\frac{e^{2x}-1}{e^{2x}+1} $$\n"
   ]
  },
  {
   "cell_type": "code",
   "execution_count": 11,
   "metadata": {
    "collapsed": false
   },
   "outputs": [
    {
     "data": {
      "image/png": "[encoded data removed]",
      "text/plain": [
       "<matplotlib.figure.Figure at 0x7fca3a01b320>"
      ]
     },
     "metadata": {},
     "output_type": "display_data"
    }
   ],
   "source": [
    "plot(x, (exp(2*x)-1)/(exp(2*x)+1));"
   ]
  },
  {
   "cell_type": "markdown",
   "metadata": {
    "slideshow": {
     "slide_type": "slide"
    }
   },
   "source": [
    "## CNN \n",
    "* convolution (correlation)\n",
    "* kernel\n",
    "* pool\n",
    "* dropout"
   ]
  },
  {
   "cell_type": "markdown",
   "metadata": {
    "slideshow": {
     "slide_type": "slide"
    }
   },
   "source": [
    "## Application: using hidden layers"
   ]
  },
  {
   "cell_type": "code",
   "execution_count": 12,
   "metadata": {
    "collapsed": false,
    "slideshow": {
     "slide_type": "skip"
    }
   },
   "outputs": [
    {
     "data": {
      "image/svg+xml": [
       "<svg height=\"63pt\" viewBox=\"0.00 0.00 685.00 63.00\" width=\"685pt\" xmlns=\"http://www.w3.org/2000/svg\" xmlns:xlink=\"http://www.w3.org/1999/xlink\">\n",
       "<g class=\"graph\" id=\"graph0\" transform=\"scale(1 1) rotate(0) translate(4 59)\">\n",
       "<title>Network</title>\n",
       "<!-- lasagne.layers.dense.DenseLayer object at 0x7fca36783a20 -->\n",
       "<g class=\"node\" id=\"node1\"><title>lasagne.layers.dense.DenseLayer object at 0x7fca36783a20</title>\n",
       "<polygon fill=\"none\" points=\"677,-55 453,-55 453,-3.55271e-15 677,-3.55271e-15 677,-55\" stroke=\"none\"/>\n",
       "<polygon fill=\"#6ccf8d\" points=\"461,-3.5 461,-50.5 620,-50.5 620,-3.5 461,-3.5\" stroke=\"none\"/>\n",
       "<polygon fill=\"none\" points=\"461,-3.5 461,-50.5 620,-50.5 620,-3.5 461,-3.5\" stroke=\"black\"/>\n",
       "<text font-family=\"Times,serif\" font-size=\"14.00\" text-anchor=\"start\" x=\"506\" y=\"-38.3\">DenseLayer</text>\n",
       "<text font-family=\"Times,serif\" font-size=\"14.00\" text-anchor=\"start\" x=\"494\" y=\"-23.3\">num_units: 1000</text>\n",
       "<text font-family=\"Times,serif\" font-size=\"14.00\" text-anchor=\"start\" x=\"462\" y=\"-8.3\">Output shape: (None, 1000)</text>\n",
       "<polygon fill=\"#ffff00\" points=\"620,-3.5 620,-50.5 669,-50.5 669,-3.5 620,-3.5\" stroke=\"none\"/>\n",
       "<polygon fill=\"none\" points=\"620,-3.5 620,-50.5 669,-50.5 669,-3.5 620,-3.5\" stroke=\"black\"/>\n",
       "<text font-family=\"Times,serif\" font-size=\"14.00\" text-anchor=\"start\" x=\"621\" y=\"-23.3\">sigmoid</text>\n",
       "</g>\n",
       "<!-- lasagne.layers.dense.DenseLayer object at 0x7fca36783f60 -->\n",
       "<g class=\"node\" id=\"node2\"><title>lasagne.layers.dense.DenseLayer object at 0x7fca36783f60</title>\n",
       "<polygon fill=\"none\" points=\"417,-55 209,-55 209,-3.55271e-15 417,-3.55271e-15 417,-55\" stroke=\"none\"/>\n",
       "<polygon fill=\"#6ccf8d\" points=\"217,-3.5 217,-50.5 369,-50.5 369,-3.5 217,-3.5\" stroke=\"none\"/>\n",
       "<polygon fill=\"none\" points=\"217,-3.5 217,-50.5 369,-50.5 369,-3.5 217,-3.5\" stroke=\"black\"/>\n",
       "<text font-family=\"Times,serif\" font-size=\"14.00\" text-anchor=\"start\" x=\"258.5\" y=\"-38.3\">DenseLayer</text>\n",
       "<text font-family=\"Times,serif\" font-size=\"14.00\" text-anchor=\"start\" x=\"250\" y=\"-23.3\">num_units: 100</text>\n",
       "<text font-family=\"Times,serif\" font-size=\"14.00\" text-anchor=\"start\" x=\"218\" y=\"-8.3\">Output shape: (None, 100)</text>\n",
       "<polygon fill=\"#ffff00\" points=\"369,-3.5 369,-50.5 409,-50.5 409,-3.5 369,-3.5\" stroke=\"none\"/>\n",
       "<polygon fill=\"none\" points=\"369,-3.5 369,-50.5 409,-50.5 409,-3.5 369,-3.5\" stroke=\"black\"/>\n",
       "<text font-family=\"Times,serif\" font-size=\"14.00\" text-anchor=\"start\" x=\"370\" y=\"-23.3\">rectify</text>\n",
       "</g>\n",
       "<!-- lasagne.layers.dense.DenseLayer object at 0x7fca36783f60&#45;&gt;lasagne.layers.dense.DenseLayer object at 0x7fca36783a20 -->\n",
       "<g class=\"edge\" id=\"edge2\"><title>lasagne.layers.dense.DenseLayer object at 0x7fca36783f60-&gt;lasagne.layers.dense.DenseLayer object at 0x7fca36783a20</title>\n",
       "<path d=\"M417.128,-27.5C425.447,-27.5 433.9,-27.5 442.332,-27.5\" fill=\"none\" stroke=\"black\"/>\n",
       "<polygon fill=\"black\" points=\"442.597,-31.0001 452.597,-27.5 442.597,-24.0001 442.597,-31.0001\" stroke=\"black\"/>\n",
       "</g>\n",
       "<!-- lasagne.layers.input.InputLayer object at 0x7fca36783a90 -->\n",
       "<g class=\"node\" id=\"node3\"><title>lasagne.layers.input.InputLayer object at 0x7fca36783a90</title>\n",
       "<polygon fill=\"#a2cece\" points=\"0,-8.5 0,-46.5 173,-46.5 173,-8.5 0,-8.5\" stroke=\"black\"/>\n",
       "<text font-family=\"Times,serif\" font-size=\"14.00\" text-anchor=\"middle\" x=\"86.5\" y=\"-31.3\">InputLayer</text>\n",
       "<text font-family=\"Times,serif\" font-size=\"14.00\" text-anchor=\"middle\" x=\"86.5\" y=\"-16.3\">Output shape: (None, 1000)</text>\n",
       "</g>\n",
       "<!-- lasagne.layers.input.InputLayer object at 0x7fca36783a90&#45;&gt;lasagne.layers.dense.DenseLayer object at 0x7fca36783f60 -->\n",
       "<g class=\"edge\" id=\"edge1\"><title>lasagne.layers.input.InputLayer object at 0x7fca36783a90-&gt;lasagne.layers.dense.DenseLayer object at 0x7fca36783f60</title>\n",
       "<path d=\"M173.014,-27.5C181.386,-27.5 189.969,-27.5 198.561,-27.5\" fill=\"none\" stroke=\"black\"/>\n",
       "<polygon fill=\"black\" points=\"198.639,-31.0001 208.639,-27.5 198.639,-24.0001 198.639,-31.0001\" stroke=\"black\"/>\n",
       "</g>\n",
       "</g>\n",
       "</svg>"
      ],
      "text/plain": [
       "<IPython.core.display.SVG object>"
      ]
     },
     "execution_count": 12,
     "metadata": {},
     "output_type": "execute_result"
    }
   ],
   "source": [
    "l_in = InputLayer(shape=(None, 1000))\n",
    "l_hidden = DenseLayer(l_in, num_units=100)\n",
    "l_out = DenseLayer(l_hidden, num_units=1000, nonlinearity=sigmoid)\n",
    "draw_to_file(\"autoencoder\", l_out, True, \"LR\")\n",
    "draw(l_out, True, \"LR\")"
   ]
  },
  {
   "cell_type": "markdown",
   "metadata": {},
   "source": [
    "<img src=\"autoencoder.svg\" width=\"90%\" />"
   ]
  },
  {
   "cell_type": "markdown",
   "metadata": {
    "slideshow": {
     "slide_type": "subslide"
    }
   },
   "source": [
    "## Neural Matching\n",
    "https://github.com/tjwei/Neural-Matching/blob/master/matching-theano-VGG-one-patch.ipynb"
   ]
  },
  {
   "cell_type": "markdown",
   "metadata": {
    "slideshow": {
     "slide_type": "slide"
    }
   },
   "source": [
    "# Educate your NN"
   ]
  },
  {
   "cell_type": "markdown",
   "metadata": {
    "slideshow": {
     "slide_type": "slide"
    }
   },
   "source": [
    "# Empathy: You were a student too\n"
   ]
  },
  {
   "cell_type": "markdown",
   "metadata": {
    "slideshow": {
     "slide_type": "slide"
    }
   },
   "source": [
    "# Overfitting"
   ]
  },
  {
   "cell_type": "markdown",
   "metadata": {
    "slideshow": {
     "slide_type": "subslide"
    }
   },
   "source": [
    "## Data"
   ]
  },
  {
   "cell_type": "code",
   "execution_count": 13,
   "metadata": {
    "collapsed": true,
    "slideshow": {
     "slide_type": "skip"
    }
   },
   "outputs": [],
   "source": [
    "x = linspace(-5, 5, 20)\n",
    "x0 = linspace(-5, 5, 100)\n",
    "error = 10*random.rand(x.shape[0])-5"
   ]
  },
  {
   "cell_type": "code",
   "execution_count": 14,
   "metadata": {
    "collapsed": false
   },
   "outputs": [
    {
     "data": {
      "image/png": "[encoded data removed]",
      "text/plain": [
       "<matplotlib.figure.Figure at 0x7fca36789908>"
      ]
     },
     "metadata": {},
     "output_type": "display_data"
    }
   ],
   "source": [
    "y = 5*x+3+error\n",
    "plot(x, y, 'x');"
   ]
  },
  {
   "cell_type": "markdown",
   "metadata": {
    "slideshow": {
     "slide_type": "subslide"
    }
   },
   "source": [
    "## linear fit"
   ]
  },
  {
   "cell_type": "code",
   "execution_count": 15,
   "metadata": {
    "collapsed": true,
    "slideshow": {
     "slide_type": "skip"
    }
   },
   "outputs": [],
   "source": [
    "w=polyfit(x,y,1)\n",
    "p1=poly1d(w)"
   ]
  },
  {
   "cell_type": "code",
   "execution_count": 65,
   "metadata": {
    "collapsed": false
   },
   "outputs": [
    {
     "data": {
      "text/plain": [
       "14.093747221755869"
      ]
     },
     "execution_count": 65,
     "metadata": {},
     "output_type": "execute_result"
    },
    {
     "data": {
      "image/png": "[encoded data removed]",
      "text/plain": [
       "<matplotlib.figure.Figure at 0x7fca58f61400>"
      ]
     },
     "metadata": {},
     "output_type": "display_data"
    }
   ],
   "source": [
    "plot(x, y, 'x');\n",
    "plot(x0, p1(x0));\n",
    "norm(y-p1(x))"
   ]
  },
  {
   "cell_type": "markdown",
   "metadata": {
    "slideshow": {
     "slide_type": "subslide"
    }
   },
   "source": [
    "## Quadratic fit"
   ]
  },
  {
   "cell_type": "code",
   "execution_count": 67,
   "metadata": {
    "collapsed": true,
    "slideshow": {
     "slide_type": "skip"
    }
   },
   "outputs": [],
   "source": [
    "w=polyfit(x,y,2)\n",
    "p2=poly1d(w)"
   ]
  },
  {
   "cell_type": "code",
   "execution_count": 68,
   "metadata": {
    "collapsed": false
   },
   "outputs": [
    {
     "data": {
      "text/plain": [
       "14.093419716491397"
      ]
     },
     "execution_count": 68,
     "metadata": {},
     "output_type": "execute_result"
    },
    {
     "data": {
      "image/png": "[encoded data removed]",
      "text/plain": [
       "<matplotlib.figure.Figure at 0x7fca3a094a90>"
      ]
     },
     "metadata": {},
     "output_type": "display_data"
    }
   ],
   "source": [
    "plot(x, y, 'x');\n",
    "plot(x0, p2(x0));\n",
    "norm(y-p2(x))"
   ]
  },
  {
   "cell_type": "markdown",
   "metadata": {
    "slideshow": {
     "slide_type": "subslide"
    }
   },
   "source": [
    "## d=5 fit"
   ]
  },
  {
   "cell_type": "code",
   "execution_count": 19,
   "metadata": {
    "collapsed": true,
    "slideshow": {
     "slide_type": "skip"
    }
   },
   "outputs": [],
   "source": [
    "w=polyfit(x,y,5)\n",
    "p5=poly1d(w)"
   ]
  },
  {
   "cell_type": "code",
   "execution_count": 63,
   "metadata": {
    "collapsed": false
   },
   "outputs": [
    {
     "data": {
      "text/plain": [
       "11.886098390621243"
      ]
     },
     "execution_count": 63,
     "metadata": {},
     "output_type": "execute_result"
    },
    {
     "data": {
      "image/png": "[encoded data removed]",
      "text/plain": [
       "<matplotlib.figure.Figure at 0x7fca58f16b70>"
      ]
     },
     "metadata": {},
     "output_type": "display_data"
    }
   ],
   "source": [
    "plot(x, y, 'x');\n",
    "plot(x0, p5(x0));\n",
    "norm(y-p5(x))"
   ]
  },
  {
   "cell_type": "markdown",
   "metadata": {
    "slideshow": {
     "slide_type": "subslide"
    }
   },
   "source": [
    "## d=20 fit"
   ]
  },
  {
   "cell_type": "code",
   "execution_count": 21,
   "metadata": {
    "collapsed": false,
    "slideshow": {
     "slide_type": "skip"
    }
   },
   "outputs": [
    {
     "name": "stderr",
     "output_type": "stream",
     "text": [
      "/usr/lib64/python3.4/site-packages/numpy/lib/polynomial.py:595: RankWarning: Polyfit may be poorly conditioned\n",
      "  warnings.warn(msg, RankWarning)\n"
     ]
    }
   ],
   "source": [
    "w=polyfit(x,y,20, rcond=1e-30)\n",
    "p20=poly1d(w)"
   ]
  },
  {
   "cell_type": "code",
   "execution_count": 61,
   "metadata": {
    "collapsed": false
   },
   "outputs": [
    {
     "data": {
      "text/plain": [
       "9.5188953035760114e-09"
      ]
     },
     "execution_count": 61,
     "metadata": {},
     "output_type": "execute_result"
    },
    {
     "data": {
      "image/png": "[encoded data removed]",
      "text/plain": [
       "<matplotlib.figure.Figure at 0x7fca59ff6cc0>"
      ]
     },
     "metadata": {},
     "output_type": "display_data"
    }
   ],
   "source": [
    "plot(x, y, 'x');\n",
    "plot(x0, p20(x0));\n",
    "plt.axis([-5, 5, -30, 30])\n",
    "norm(y-p20(x))"
   ]
  },
  {
   "cell_type": "markdown",
   "metadata": {
    "slideshow": {
     "slide_type": "subslide"
    }
   },
   "source": [
    "## Test"
   ]
  },
  {
   "cell_type": "code",
   "execution_count": 60,
   "metadata": {
    "collapsed": false
   },
   "outputs": [
    {
     "data": {
      "text/plain": [
       "(386.63726305189118, 15.339063237076434)"
      ]
     },
     "execution_count": 60,
     "metadata": {},
     "output_type": "execute_result"
    },
    {
     "data": {
      "image/png": "[encoded data removed]",
      "text/plain": [
       "<matplotlib.figure.Figure at 0x7fca58ed8860>"
      ]
     },
     "metadata": {},
     "output_type": "display_data"
    }
   ],
   "source": [
    "x2 =linspace(-5,5,25)\n",
    "error2 = random.rand(x2.shape[0])*10-5\n",
    "y2 = 5*x2+3+error2\n",
    "plot(x2,y2, 'o')\n",
    "plot(x0, p1(x0))\n",
    "plot(x0, p20(x0));\n",
    "plt.axis([-5, 5, -30, 30]);\n",
    "norm(y2-p20(x2)), norm(y2-p1(x2))"
   ]
  },
  {
   "cell_type": "markdown",
   "metadata": {
    "slideshow": {
     "slide_type": "slide"
    }
   },
   "source": [
    "# The 10,000 Hour Rule"
   ]
  },
  {
   "cell_type": "markdown",
   "metadata": {
    "slideshow": {
     "slide_type": "subslide"
    }
   },
   "source": [
    "# Making Mistakes is essential"
   ]
  },
  {
   "cell_type": "markdown",
   "metadata": {
    "slideshow": {
     "slide_type": "subslide"
    }
   },
   "source": [
    "# Learning is all about generalization"
   ]
  },
  {
   "cell_type": "markdown",
   "metadata": {
    "slideshow": {
     "slide_type": "subslide"
    }
   },
   "source": [
    "# You cannot learn from textbook"
   ]
  },
  {
   "cell_type": "markdown",
   "metadata": {
    "slideshow": {
     "slide_type": "subslide"
    }
   },
   "source": [
    "# Reinforcement Learning: expectation vs. exploration"
   ]
  },
  {
   "cell_type": "code",
   "execution_count": 136,
   "metadata": {
    "collapsed": true,
    "slideshow": {
     "slide_type": "skip"
    }
   },
   "outputs": [],
   "source": [
    "def learner(ϵ=0, n=10):\n",
    "    p = rand(n)*10   \n",
    "    t = ones(n)\n",
    "    while 1:\n",
    "        #print(\"learner\", p)\n",
    "        if rand() < ϵ:\n",
    "            a = randint(n)\n",
    "        else:\n",
    "            a = argmax(p)\n",
    "        reward = yield a\n",
    "        t[a]+=1\n",
    "        p[a] = p[a]+(reward-p[a])/t[a]\n",
    "\n",
    "def bandit(n=10):\n",
    "    p = rand(n)*10\n",
    "    #print(\"bandit\", p)\n",
    "    a = -1\n",
    "    while 1:\n",
    "        if a == -1:\n",
    "            a = yield p\n",
    "        else:            \n",
    "            a = yield random.normal(p[a])"
   ]
  },
  {
   "cell_type": "code",
   "execution_count": 149,
   "metadata": {
    "collapsed": false,
    "slideshow": {
     "slide_type": "skip"
    }
   },
   "outputs": [],
   "source": [
    "N=5000\n",
    "M=2000\n",
    "result1=zeros(N)\n",
    "result2=zeros(N)\n",
    "result3=zeros(N)\n",
    "for j in range(M):    \n",
    "    b = bandit()\n",
    "    p = next(b)\n",
    "    \n",
    "    l = learner(.1)\n",
    "    a = next(l)\n",
    "    total = 0\n",
    "    for i in range(N):\n",
    "        reward = b.send(a)\n",
    "        total += reward\n",
    "        a= l.send(reward)\n",
    "        result1[i]+=total/(i+1)/p.max()\n",
    "        \n",
    "    l = learner(.01)\n",
    "    a = next(l)\n",
    "    total = 0\n",
    "    for i in range(N):\n",
    "        reward = b.send(a)\n",
    "        total += reward\n",
    "        a= l.send(reward)\n",
    "        result2[i]+=total/(i+1)/p.max()\n",
    "        \n",
    "    l = learner(0)\n",
    "    a = next(l)\n",
    "    total = 0\n",
    "    for i in range(N):\n",
    "        reward = b.send(a)\n",
    "        total += reward\n",
    "        a= l.send(reward)\n",
    "        result3[i]+=total/(i+1)/p.max()"
   ]
  },
  {
   "cell_type": "code",
   "execution_count": 151,
   "metadata": {
    "collapsed": false,
    "slideshow": {
     "slide_type": "skip"
    }
   },
   "outputs": [
    {
     "data": {
      "image/png": "[encoded data removed]",
      "text/plain": [
       "<matplotlib.figure.Figure at 0x7fca58af5860>"
      ]
     },
     "metadata": {},
     "output_type": "display_data"
    }
   ],
   "source": [
    "plt.figure(figsize=(13,8.5));\n",
    "plot(result1/M, label=\".1\");plot(result2/M, label=\".01\");plot(result3/M, label=\"0\");\n",
    "plt.legend(bbox_to_anchor=(1, 0.5));\n",
    "savefig(\"rl2.png\")"
   ]
  },
  {
   "cell_type": "markdown",
   "metadata": {
    "slideshow": {
     "slide_type": "subslide"
    }
   },
   "source": [
    "<img src=\"rl.png\"  width=\"85%\" />"
   ]
  },
  {
   "cell_type": "markdown",
   "metadata": {
    "slideshow": {
     "slide_type": "subslide"
    }
   },
   "source": [
    "<img src=\"rl.png\"  width=\"85%\" />"
   ]
  }
 ],
 "metadata": {
  "celltoolbar": "Slideshow",
  "kernelspec": {
   "display_name": "Python 3",
   "language": "python",
   "name": "python3"
  },
  "language_info": {
   "codemirror_mode": {
    "name": "ipython",
    "version": 3
   },
   "file_extension": ".py",
   "mimetype": "text/x-python",
   "name": "python",
   "nbconvert_exporter": "python",
   "pygments_lexer": "ipython3",
   "version": "3.4.1"
  }
 },
 "nbformat": 4,
 "nbformat_minor": 0
}
